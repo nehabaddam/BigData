{
 "cells": [
  {
   "cell_type": "markdown",
   "id": "c0e29393",
   "metadata": {},
   "source": [
    "# Data Frames Primer"
   ]
  },
  {
   "cell_type": "code",
   "execution_count": 5,
   "id": "2ff8427a",
   "metadata": {},
   "outputs": [
    {
     "name": "stdout",
     "output_type": "stream",
     "text": [
      "Data Frames Primer\n",
      "\n",
      " 1. Input the following data into a data frame called titanic, and display the entire data frame:\n",
      "\n",
      "+--------+------+--------+----+\n",
      "|     Sex| Class|Survived|Died|\n",
      "+--------+------+--------+----+\n",
      "|Children| First|       6|   0|\n",
      "|Children|Second|      24|   0|\n",
      "|Children| Third|      27|  52|\n",
      "|     Men| First|      57| 118|\n",
      "|     Men|Second|      14| 154|\n",
      "|     Men| Third|      75| 387|\n",
      "|     Men|  Crew|     192| 693|\n",
      "|   Women| First|     140|   4|\n",
      "|   Women|Second|      80|  13|\n",
      "|   Women| Third|      76|  89|\n",
      "|   Women|  Crew|      20|   3|\n",
      "+--------+------+--------+----+\n",
      "\n"
     ]
    }
   ],
   "source": [
    "from pyspark.sql import SparkSession \n",
    "\n",
    "spark = SparkSession.builder.appName('Dataframe').getOrCreate()\n",
    "\n",
    "print('Data Frames Primer')\n",
    "\n",
    "print('\\n 1. Input the following data into a data frame called titanic, and display the entire data frame:\\n')\n",
    "\n",
    "data = [('Children', 'First', 6, 0) , ('Children', 'Second', 24, 0) ,  \n",
    "        ('Children', 'Third', 27, 52), ('Men', 'First', 57, 118),\n",
    "        ('Men', 'Second', 14, 154), ('Men', 'Third', 75, 387), \n",
    "        ('Men', 'Crew', 192, 693) , ('Women', 'First', 140, 4) ,\n",
    "        ('Women', 'Second', 80, 13), ('Women', 'Third', 76, 89) , \n",
    "        ('Women', 'Crew', 20, 3 )]\n",
    "\n",
    "columns=['Sex', 'Class', 'Survived', 'Died']\n",
    "\n",
    "ts = spark.createDataFrame(data = data, schema = columns)\n",
    "\n",
    "ts.show()"
   ]
  },
  {
   "cell_type": "code",
   "execution_count": 6,
   "id": "52cbfbe6",
   "metadata": {},
   "outputs": [
    {
     "name": "stdout",
     "output_type": "stream",
     "text": [
      "2. Delete the crew members from the data.\n",
      "+--------+------+--------+----+\n",
      "|     Sex| Class|Survived|Died|\n",
      "+--------+------+--------+----+\n",
      "|Children| First|       6|   0|\n",
      "|Children|Second|      24|   0|\n",
      "|Children| Third|      27|  52|\n",
      "|     Men| First|      57| 118|\n",
      "|     Men|Second|      14| 154|\n",
      "|     Men| Third|      75| 387|\n",
      "|   Women| First|     140|   4|\n",
      "|   Women|Second|      80|  13|\n",
      "|   Women| Third|      76|  89|\n",
      "+--------+------+--------+----+\n",
      "\n"
     ]
    }
   ],
   "source": [
    "print('2. Delete the crew members from the data.')\n",
    "\n",
    "ts = ts.filter(ts.Class != \"Crew\")\n",
    "\n",
    "ts.show()"
   ]
  },
  {
   "cell_type": "code",
   "execution_count": 7,
   "id": "d90df0ca",
   "metadata": {},
   "outputs": [
    {
     "name": "stdout",
     "output_type": "stream",
     "text": [
      "3. Create a new column that is the total number of people for that group (those who survived + died).\n",
      "\n",
      "+--------+------+--------+----+-----+\n",
      "|     Sex| Class|Survived|Died|Total|\n",
      "+--------+------+--------+----+-----+\n",
      "|Children| First|       6|   0|    6|\n",
      "|Children|Second|      24|   0|   24|\n",
      "|Children| Third|      27|  52|   79|\n",
      "|     Men| First|      57| 118|  175|\n",
      "|     Men|Second|      14| 154|  168|\n",
      "|     Men| Third|      75| 387|  462|\n",
      "|   Women| First|     140|   4|  144|\n",
      "|   Women|Second|      80|  13|   93|\n",
      "|   Women| Third|      76|  89|  165|\n",
      "+--------+------+--------+----+-----+\n",
      "\n"
     ]
    }
   ],
   "source": [
    "print('3. Create a new column that is the total number of people for that group (those who survived + died).\\n')\n",
    "\n",
    "ts = ts.withColumn(\"Total\", ts.Survived+ ts.Died)\n",
    "\n",
    "ts.show()"
   ]
  },
  {
   "cell_type": "code",
   "execution_count": 8,
   "id": "fdb9c1c0",
   "metadata": {},
   "outputs": [
    {
     "name": "stdout",
     "output_type": "stream",
     "text": [
      "4. Delete the column indicating the total number of people in that group.\n",
      "\n",
      "+--------+------+--------+----+\n",
      "|     Sex| Class|Survived|Died|\n",
      "+--------+------+--------+----+\n",
      "|Children| First|       6|   0|\n",
      "|Children|Second|      24|   0|\n",
      "|Children| Third|      27|  52|\n",
      "|     Men| First|      57| 118|\n",
      "|     Men|Second|      14| 154|\n",
      "|     Men| Third|      75| 387|\n",
      "|   Women| First|     140|   4|\n",
      "|   Women|Second|      80|  13|\n",
      "|   Women| Third|      76|  89|\n",
      "+--------+------+--------+----+\n",
      "\n"
     ]
    }
   ],
   "source": [
    "print('4. Delete the column indicating the total number of people in that group.\\n')\n",
    "\n",
    "ts = ts.drop(\"Total\")\n",
    "\n",
    "ts.show()"
   ]
  },
  {
   "cell_type": "code",
   "execution_count": 9,
   "id": "13372ce1",
   "metadata": {},
   "outputs": [
    {
     "name": "stdout",
     "output_type": "stream",
     "text": [
      "5. Only show the rows where more than 80% of the people survived.\n",
      "\n",
      "+--------+------+--------+----+\n",
      "|     Sex| Class|Survived|Died|\n",
      "+--------+------+--------+----+\n",
      "|Children| First|       6|   0|\n",
      "|Children|Second|      24|   0|\n",
      "|   Women| First|     140|   4|\n",
      "|   Women|Second|      80|  13|\n",
      "+--------+------+--------+----+\n",
      "\n"
     ]
    }
   ],
   "source": [
    "print('5. Only show the rows where more than 80% of the people survived.\\n')\n",
    "\n",
    "\n",
    "ts.filter((ts.Survived/(ts.Survived+ ts.Died))*100 > 80).show()"
   ]
  },
  {
   "cell_type": "code",
   "execution_count": null,
   "id": "904fcc9e",
   "metadata": {},
   "outputs": [],
   "source": []
  }
 ],
 "metadata": {
  "kernelspec": {
   "display_name": "Python 3 (ipykernel)",
   "language": "python",
   "name": "python3"
  },
  "language_info": {
   "codemirror_mode": {
    "name": "ipython",
    "version": 3
   },
   "file_extension": ".py",
   "mimetype": "text/x-python",
   "name": "python",
   "nbconvert_exporter": "python",
   "pygments_lexer": "ipython3",
   "version": "3.9.7"
  }
 },
 "nbformat": 4,
 "nbformat_minor": 5
}
