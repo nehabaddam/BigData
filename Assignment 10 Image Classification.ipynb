{
 "cells": [
  {
   "cell_type": "markdown",
   "metadata": {},
   "source": [
    "\n",
    "# 1. Creating a list with the names called image_files "
   ]
  },
  {
   "cell_type": "code",
   "execution_count": 3,
   "metadata": {},
   "outputs": [
    {
     "name": "stdout",
     "output_type": "stream",
     "text": [
      "Creating a list with the names called image_files:\n",
      "\n",
      " farm1.jpg\n",
      "\n",
      " farm2.jpg\n",
      "\n",
      " farm3.jpg\n",
      "\n",
      " farm4.jpg\n",
      "\n",
      " farm5.jpg\n",
      "\n",
      " farm6.jpg\n",
      "\n",
      " farm7.jpg\n",
      "\n",
      " farm8.jpg\n",
      "\n",
      " city1.jpg\n",
      "\n",
      " city2.jpg\n",
      "\n",
      " city3.jpg\n",
      "\n",
      " city4.jpg\n",
      "\n",
      " city5.jpg\n",
      "\n",
      " city6.jpg\n",
      "\n",
      " city7.jpg\n",
      "\n",
      " city8.jpg\n",
      "\n",
      " desert1.jpg\n",
      "\n",
      " desert2.jpg\n",
      "\n",
      " desert3.jpg\n",
      "\n",
      " desert4.jpg\n",
      "\n",
      " desert5.jpg\n",
      "\n",
      " desert6.jpg\n",
      "\n",
      " desert7.jpg\n",
      "\n",
      " desert8.jpg\n"
     ]
    }
   ],
   "source": [
    "import matplotlib.pyplot as plt\n",
    "import numpy as np\n",
    "from PIL import Image\n",
    "from sklearn import neighbors\n",
    "\n",
    "image_files = ['farm1.jpg', 'farm2.jpg', 'farm3.jpg', 'farm4.jpg', 'farm5.jpg', 'farm6.jpg', 'farm7.jpg', 'farm8.jpg', \n",
    " 'city1.jpg', 'city2.jpg', 'city3.jpg', 'city4.jpg', 'city5.jpg', 'city6.jpg', 'city7.jpg', 'city8.jpg', \n",
    " 'desert1.jpg', 'desert2.jpg', 'desert3.jpg', 'desert4.jpg', 'desert5.jpg', 'desert6.jpg', 'desert7.jpg', 'desert8.jpg'] \n",
    "print(\"Creating a list with the names called image_files:\")\n",
    "\n",
    "for x in image_files:\n",
    "    print('\\n',x)"
   ]
  },
  {
   "cell_type": "markdown",
   "metadata": {},
   "source": [
    "# 2. Create the scatter plot in the first page "
   ]
  },
  {
   "cell_type": "code",
   "execution_count": 4,
   "metadata": {},
   "outputs": [],
   "source": [
    "# percentage_of_BlueGreen returns % of Green and Blue of an Image\n",
    "\n",
    "def percentage_of_BlueGreen(image):\n",
    "    \n",
    "    BlueGreen = np.array(image).mean(axis=(0,1))\n",
    "    R = BlueGreen[0]\n",
    "    G = BlueGreen[1]\n",
    "    B = BlueGreen[2]\n",
    "    \n",
    "    Sum = BlueGreen[0] + BlueGreen[1] + BlueGreen[2]\n",
    "                                           \n",
    "    percentage_of_Green = BlueGreen[1]/Sum\n",
    "    percentage_of_Blue = BlueGreen[2]/Sum\n",
    "    \n",
    "    return percentage_of_Green, percentage_of_Blue"
   ]
  },
  {
   "cell_type": "code",
   "execution_count": 5,
   "metadata": {},
   "outputs": [
    {
     "name": "stdout",
     "output_type": "stream",
     "text": [
      "Percentage values of Green \n",
      "[0.38537916 0.38947877 0.37176749 0.38534941 0.38368854 0.37822351\n",
      " 0.35577841 0.36318264 0.33384679 0.31457989 0.32982159 0.33021422\n",
      " 0.31267745 0.3620055  0.33263931 0.33155648 0.28899154 0.32887465\n",
      " 0.32171351 0.35209261 0.32718513 0.33655681 0.34419192 0.32732039]\n",
      "Percentage values of Blue\n",
      "[0.27250258 0.2416675  0.2923693  0.25567274 0.26974449 0.34243724\n",
      " 0.26138973 0.32079251 0.33987008 0.31740955 0.30761097 0.40329483\n",
      " 0.37068047 0.35922372 0.28122414 0.31387494 0.26478622 0.29461288\n",
      " 0.24749944 0.23171261 0.21564911 0.2638719  0.13749538 0.26438328]\n"
     ]
    },
    {
     "data": {
      "image/png": "[encoded data removed]",
      "text/plain": [
       "<Figure size 432x288 with 1 Axes>"
      ]
     },
     "metadata": {
      "needs_background": "light"
     },
     "output_type": "display_data"
    }
   ],
   "source": [
    "#scatter plot\n",
    "\n",
    "PercentageBlueGreen = [] \n",
    "\n",
    "# getting percent of green and percent blue. \n",
    "for x in image_files: \n",
    "    \n",
    "    image = Image.open('images2/' + x)\n",
    "    PercentageBlueGreen.append(percentage_of_BlueGreen(image))\n",
    "\n",
    "\n",
    "#Green \n",
    "Green = [x for x, y in PercentageBlueGreen]\n",
    "GreenArray = np.array(Green)\n",
    "print(\"Percentage values of Green \")\n",
    "print(GreenArray)\n",
    "\n",
    "\n",
    "#Blue values\n",
    "Blue = [y for x, y in PercentageBlueGreen]\n",
    "BlueArray = np.array(Blue)\n",
    "print(\"Percentage values of Blue\")\n",
    "print(BlueArray)\n",
    "\n",
    "from matplotlib.pyplot import *\n",
    "\n",
    "%matplotlib inline\n",
    "\n",
    "\n",
    "plot(GreenArray[0:11],BlueArray[0:11],'rs',label='Farm')\n",
    "\n",
    "plot(GreenArray[11:22],BlueArray[11:22],'bx',label='City')\n",
    "\n",
    "plot(GreenArray[22:44],BlueArray[22:44],'go',label='Desert')\n",
    "\n",
    "xlabel('Green Values',fontsize=10, color = 'green')\n",
    "ylabel('Blue Values',fontsize=10, color = 'blue')\n",
    "title('Image Classification for City, Farm & Desert',fontsize=16, color = 'brown')\n",
    "\n",
    "legend(loc='best')\n",
    "show()"
   ]
  },
  {
   "cell_type": "markdown",
   "metadata": {},
   "source": [
    "# 3. Now create an array of strings called training_target with the category of each. "
   ]
  },
  {
   "cell_type": "code",
   "execution_count": 6,
   "metadata": {},
   "outputs": [
    {
     "name": "stdout",
     "output_type": "stream",
     "text": [
      "image_files list: \n",
      "\n",
      "\n",
      " farm\n",
      "\n",
      " farm\n",
      "\n",
      " farm\n",
      "\n",
      " farm\n",
      "\n",
      " farm\n",
      "\n",
      " farm\n",
      "\n",
      " farm\n",
      "\n",
      " farm\n",
      "\n",
      " city\n",
      "\n",
      " city\n",
      "\n",
      " city\n",
      "\n",
      " city\n",
      "\n",
      " city\n",
      "\n",
      " city\n",
      "\n",
      " city\n",
      "\n",
      " city\n",
      "\n",
      " desert\n",
      "\n",
      " desert\n",
      "\n",
      " desert\n",
      "\n",
      " desert\n",
      "\n",
      " desert\n",
      "\n",
      " desert\n",
      "\n",
      " desert\n",
      "\n",
      " desert\n"
     ]
    }
   ],
   "source": [
    "training_target = np.array(['farm', 'farm', 'farm', 'farm', 'farm', 'farm', 'farm', 'farm', 'city', 'city', 'city', 'city', 'city', 'city', 'city', 'city', 'desert', 'desert', 'desert', 'desert', 'desert', 'desert', 'desert', 'desert'])\n",
    "print(\"image_files list: \\n\")\n",
    "for x in training_target:\n",
    "    print('\\n',x)"
   ]
  },
  {
   "cell_type": "markdown",
   "metadata": {},
   "source": [
    "# 4. Create an empty array of zeros called training_data that will eventually store the percent green and percent blue values. "
   ]
  },
  {
   "cell_type": "code",
   "execution_count": 8,
   "metadata": {},
   "outputs": [
    {
     "name": "stdout",
     "output_type": "stream",
     "text": [
      "Empty array of zeros called training_data: []\n"
     ]
    }
   ],
   "source": [
    "training_data = [] \n",
    "print('Empty array of zeros called training_data:',training_data)"
   ]
  },
  {
   "cell_type": "markdown",
   "metadata": {},
   "source": [
    "# 5. Now fill the training_data array with the proper values for each image and observe the values in the array after it is finished. "
   ]
  },
  {
   "cell_type": "code",
   "execution_count": 9,
   "metadata": {},
   "outputs": [
    {
     "name": "stdout",
     "output_type": "stream",
     "text": [
      "Percentage values of Green and Blue colors filled in the training_data array:\n",
      "(0.38537916213835416, 0.2725025827290944)\n",
      "(0.38947876516901914, 0.24166749580794727)\n",
      "(0.37176749098686257, 0.29236929740095713)\n",
      "(0.3853494059331435, 0.25567274038089727)\n",
      "(0.3836885427597768, 0.2697444869452292)\n",
      "(0.3782235141367888, 0.3424372370985558)\n",
      "(0.3557784135089085, 0.2613897337397366)\n",
      "(0.36318263603850426, 0.3207925148928169)\n",
      "(0.3338467930412881, 0.33987007505544775)\n",
      "(0.3145798947161084, 0.31740954537386984)\n",
      "(0.32982159222616164, 0.30761097231014695)\n",
      "(0.3302142216023482, 0.4032948263728943)\n",
      "(0.3126774452579913, 0.3706804693524618)\n",
      "(0.36200550003320575, 0.3592237167477091)\n",
      "(0.3326393074627567, 0.2812241449923416)\n",
      "(0.33155647847549335, 0.3138749350290284)\n",
      "(0.2889915365854203, 0.2647862205478914)\n",
      "(0.3288746497784961, 0.2946128831876114)\n",
      "(0.32171351112006713, 0.24749944089149414)\n",
      "(0.3520926067264411, 0.2317126103798501)\n",
      "(0.32718512631637453, 0.2156491053354232)\n",
      "(0.33655681001293364, 0.2638719030231327)\n",
      "(0.3441919206452676, 0.1374953806468185)\n",
      "(0.32732039192104917, 0.26438328280357887)\n"
     ]
    }
   ],
   "source": [
    "for x in image_files:  \n",
    "    image = Image.open('images2/' + x)\n",
    "    training_data.append(percentage_of_BlueGreen(image))\n",
    "\n",
    "\n",
    "print(\"Percentage values of Green and Blue colors filled in the training_data array:\")   \n",
    "\n",
    "for x in training_data:\n",
    "    print(x)\n"
   ]
  },
  {
   "cell_type": "markdown",
   "metadata": {},
   "source": [
    "# 6. Create your classifier.  "
   ]
  },
  {
   "cell_type": "code",
   "execution_count": 10,
   "metadata": {},
   "outputs": [
    {
     "name": "stdout",
     "output_type": "stream",
     "text": [
      "Created classifier: KNeighborsClassifier(n_neighbors=1, weights='distance')\n"
     ]
    }
   ],
   "source": [
    "k = neighbors.KNeighborsClassifier(1,weights='distance')\n",
    "print('Created classifier:',k)"
   ]
  },
  {
   "cell_type": "markdown",
   "metadata": {},
   "source": [
    "\n",
    "# 7. Train your classifier.  "
   ]
  },
  {
   "cell_type": "code",
   "execution_count": 11,
   "metadata": {},
   "outputs": [
    {
     "name": "stdout",
     "output_type": "stream",
     "text": [
      "Training Array: [[0.38537916 0.27250258]\n",
      " [0.38947877 0.2416675 ]\n",
      " [0.37176749 0.2923693 ]\n",
      " [0.38534941 0.25567274]\n",
      " [0.38368854 0.26974449]\n",
      " [0.37822351 0.34243724]\n",
      " [0.35577841 0.26138973]\n",
      " [0.36318264 0.32079251]\n",
      " [0.33384679 0.33987008]\n",
      " [0.31457989 0.31740955]\n",
      " [0.32982159 0.30761097]\n",
      " [0.33021422 0.40329483]\n",
      " [0.31267745 0.37068047]\n",
      " [0.3620055  0.35922372]\n",
      " [0.33263931 0.28122414]\n",
      " [0.33155648 0.31387494]\n",
      " [0.28899154 0.26478622]\n",
      " [0.32887465 0.29461288]\n",
      " [0.32171351 0.24749944]\n",
      " [0.35209261 0.23171261]\n",
      " [0.32718513 0.21564911]\n",
      " [0.33655681 0.2638719 ]\n",
      " [0.34419192 0.13749538]\n",
      " [0.32732039 0.26438328]]\n",
      "\n",
      "Training classifier:\n"
     ]
    },
    {
     "data": {
      "text/plain": [
       "KNeighborsClassifier(n_neighbors=1, weights='distance')"
      ]
     },
     "execution_count": 11,
     "metadata": {},
     "output_type": "execute_result"
    }
   ],
   "source": [
    "trainingArray = np.column_stack((GreenArray,BlueArray))\n",
    "print('Training Array:',trainingArray)\n",
    "\n",
    "print('\\nTraining classifier:')\n",
    "k.fit(trainingArray, training_target)\n"
   ]
  },
  {
   "cell_type": "markdown",
   "metadata": {},
   "source": [
    "# 8. Now create an empty test_data array and fill it with the proper values for each test image"
   ]
  },
  {
   "cell_type": "code",
   "execution_count": 13,
   "metadata": {},
   "outputs": [
    {
     "name": "stdout",
     "output_type": "stream",
     "text": [
      "Percentage of Green and Blue for each image in the test_data\n",
      "(0.32695920083037133, 0.3268851262195992)\n",
      "(0.3342938446981946, 0.17936788871306228)\n",
      "(0.35004008017770316, 0.24578861396084875)\n"
     ]
    }
   ],
   "source": [
    "test_images = ['test1.jpg', 'test2.jpg', 'test3.jpg']\n",
    "test_data = []\n",
    "for x in test_images:\n",
    "    path = ('images2/' + x)\n",
    "    image = Image.open(path)\n",
    "    test_data.append(percentage_of_BlueGreen(image))\n",
    "    \n",
    "print(\"Percentage of Green and Blue for each image in the test_data\")\n",
    "for x in test_data:\n",
    "    print(x)\n",
    "\n",
    "#Percentage values of Green color from Test data\n",
    "Test_Percent_of_Green = [x for x, y in test_data]\n",
    "Test_Percent_of_Green_Array = np.array(Test_Percent_of_Green)\n",
    "\n",
    "#Percentage values of Blue color from Test data\n",
    "Test_Percent_of_Blue = [y for x, y in test_data]\n",
    "Test_Percent_of_Blue_Array = np.array(Test_Percent_of_Blue)\n",
    "    \n"
   ]
  },
  {
   "cell_type": "markdown",
   "metadata": {},
   "source": [
    "# 9. Predict the class of the test images"
   ]
  },
  {
   "cell_type": "code",
   "execution_count": 15,
   "metadata": {},
   "outputs": [
    {
     "name": "stdout",
     "output_type": "stream",
     "text": [
      "Percentage Green and Blue in predicting the class of test images:\n",
      "[[0.3269592  0.32688513]\n",
      " [0.33429384 0.17936789]\n",
      " [0.35004008 0.24578861]]\n"
     ]
    }
   ],
   "source": [
    "test_array = np.column_stack((Test_Percent_of_Green_Array,Test_Percent_of_Blue_Array))\n",
    "\n",
    "print(\"Percentage Green and Blue in predicting the class of test images:\")\n",
    "print(test_array)\n",
    "\n",
    "predict_classifier = k.predict(test_array)"
   ]
  },
  {
   "cell_type": "markdown",
   "metadata": {},
   "source": [
    "# 10. Print the prediction from the test images and compare with the actual images shown below. Make this comparison clear in the output of your code (e.g. prepend with ‘predicted:’ and ‘actual:’). Try to explain any errors if you note any. \n",
    "    "
   ]
  },
  {
   "cell_type": "code",
   "execution_count": 19,
   "metadata": {},
   "outputs": [
    {
     "name": "stdout",
     "output_type": "stream",
     "text": [
      "Predicted results from the test images:\n",
      "['city' 'desert' 'desert']\n",
      "\n",
      "Actual results from the test images:\n",
      "['city', 'desert', 'farm']\n"
     ]
    }
   ],
   "source": [
    "print(\"Predicted results from the test images:\")\n",
    "print(predict_classifier)\n",
    "print(\"\\nActual results from the test images:\")\n",
    "print(\"['city', 'desert', 'farm']\")\n"
   ]
  },
  {
   "cell_type": "markdown",
   "metadata": {},
   "source": [
    "# The predicted and actual values for the first two images are correct (i.e. for the City and Desert).\n",
    "# But the prediction for the third image the prediction is wrong (for the farm), because the image has dry grass in brown color, just like the colors in desert images. Hence it is being considered as desert. "
   ]
  },
  {
   "cell_type": "code",
   "execution_count": null,
   "metadata": {},
   "outputs": [],
   "source": []
  },
  {
   "cell_type": "code",
   "execution_count": null,
   "metadata": {},
   "outputs": [],
   "source": []
  }
 ],
 "metadata": {
  "kernelspec": {
   "display_name": "Python 3 (ipykernel)",
   "language": "python",
   "name": "python3"
  },
  "language_info": {
   "codemirror_mode": {
    "name": "ipython",
    "version": 3
   },
   "file_extension": ".py",
   "mimetype": "text/x-python",
   "name": "python",
   "nbconvert_exporter": "python",
   "pygments_lexer": "ipython3",
   "version": "3.9.7"
  }
 },
 "nbformat": 4,
 "nbformat_minor": 4
}
