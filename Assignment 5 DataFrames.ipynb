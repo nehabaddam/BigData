{
 "cells": [
  {
   "cell_type": "code",
   "execution_count": 8,
   "id": "e4b49e83",
   "metadata": {},
   "outputs": [
    {
     "name": "stdout",
     "output_type": "stream",
     "text": [
      "Data Frames Primer\n",
      "\n",
      " 1. Input the following data into a data frame called titanic, and display the entire data frame:\n",
      "\n",
      "         Sex   Class  Survived  Died\n",
      "0   Children   First         6     0\n",
      "1   Children  Second        24     0\n",
      "2   Children   Third        27    52\n",
      "3        Men   First        57   118\n",
      "4        Men  Second        14   154\n",
      "5        Men   Third        75   387\n",
      "6        Men    Crew       192   693\n",
      "7      Women   First       140     4\n",
      "8      Women  Second        80    13\n",
      "9      Women   Third        76    89\n",
      "10     Women    Crew        20     3\n"
     ]
    }
   ],
   "source": [
    "print('Data Frames Primer')\n",
    "import numpy as np\n",
    "import pandas as pd\n",
    "print('\\n 1. Input the following data into a data frame called titanic, and display the entire data frame:\\n')\n",
    "\n",
    "Titanic_Survivors = {'Sex' :['Children', 'Children', 'Children','Men', 'Men','Men','Men','Women','Women','Women','Women'], \n",
    "                     'Class' : ['First','Second','Third','First','Second','Third','Crew','First','Second','Third','Crew'], \n",
    "                     'Survived' : [6,24,27,57,14,75,192,140,80,76,20], \n",
    "                     'Died' :[0,0,52,118,154,387,693,4,13,89,3]}\n",
    "\n",
    "ts = pd.DataFrame(Titanic_Survivors,columns=['Sex', 'Class', 'Survived', 'Died'])\n",
    "print (ts) \n"
   ]
  },
  {
   "cell_type": "code",
   "execution_count": 13,
   "id": "91f1bb17",
   "metadata": {},
   "outputs": [
    {
     "name": "stdout",
     "output_type": "stream",
     "text": [
      "2. Delete the crew members from the data.\n",
      "        Sex   Class  Survived  Died\n",
      "0  Children   First         6     0\n",
      "1  Children  Second        24     0\n",
      "2  Children   Third        27    52\n",
      "3       Men   First        57   118\n",
      "4       Men  Second        14   154\n",
      "5       Men   Third        75   387\n",
      "7     Women   First       140     4\n",
      "8     Women  Second        80    13\n",
      "9     Women   Third        76    89\n"
     ]
    }
   ],
   "source": [
    "print('2. Delete the crew members from the data.')\n",
    "\n",
    "#ts.drop([6 , 10], axis=0, inplace = True) \n",
    "\n",
    "ts = ts[ts[\"Class\"] != 'Crew']\n",
    "print (ts)"
   ]
  },
  {
   "cell_type": "code",
   "execution_count": 20,
   "id": "8a91eb90",
   "metadata": {},
   "outputs": [
    {
     "name": "stdout",
     "output_type": "stream",
     "text": [
      "3. Create a new column that is the total number of people for that group (those who survived + died).\n",
      "\n",
      "        Sex   Class  Survived  Died  Total\n",
      "0  Children   First         6     0      6\n",
      "1  Children  Second        24     0     24\n",
      "2  Children   Third        27    52     79\n",
      "3       Men   First        57   118    175\n",
      "4       Men  Second        14   154    168\n",
      "5       Men   Third        75   387    462\n",
      "7     Women   First       140     4    144\n",
      "8     Women  Second        80    13     93\n",
      "9     Women   Third        76    89    165\n"
     ]
    }
   ],
   "source": [
    "print('3. Create a new column that is the total number of people for that group (those who survived + died).\\n')\n",
    "\n",
    "ts['Total'] = ts['Survived'] + ts['Died'] \n",
    "\n",
    "print(ts)"
   ]
  },
  {
   "cell_type": "code",
   "execution_count": 21,
   "id": "cb10a64f",
   "metadata": {},
   "outputs": [
    {
     "name": "stdout",
     "output_type": "stream",
     "text": [
      "4. Delete the column indicating the total number of people in that group.\n",
      "\n",
      "        Sex   Class  Survived  Died\n",
      "0  Children   First         6     0\n",
      "1  Children  Second        24     0\n",
      "2  Children   Third        27    52\n",
      "3       Men   First        57   118\n",
      "4       Men  Second        14   154\n",
      "5       Men   Third        75   387\n",
      "7     Women   First       140     4\n",
      "8     Women  Second        80    13\n",
      "9     Women   Third        76    89\n"
     ]
    }
   ],
   "source": [
    "print('4. Delete the column indicating the total number of people in that group.\\n')\n",
    " \n",
    "ts.drop(['Total'], axis = 1, inplace = True)\n",
    "\n",
    "print(ts)"
   ]
  },
  {
   "cell_type": "code",
   "execution_count": 34,
   "id": "d96aa576",
   "metadata": {},
   "outputs": [
    {
     "name": "stdout",
     "output_type": "stream",
     "text": [
      "5. Only show the rows where more than 80% of the people survived.\n",
      "\n",
      "        Sex   Class  Survived  Died\n",
      "0  Children   First         6     0\n",
      "1  Children  Second        24     0\n",
      "7     Women   First       140     4\n",
      "8     Women  Second        80    13\n"
     ]
    }
   ],
   "source": [
    "print('5. Only show the rows where more than 80% of the people survived.\\n')\n",
    "\n",
    "print(ts[(ts['Survived']/(ts['Survived']+ ts['Died']))*100 > 80])\n"
   ]
  },
  {
   "cell_type": "code",
   "execution_count": null,
   "id": "612ed974",
   "metadata": {},
   "outputs": [],
   "source": []
  }
 ],
 "metadata": {
  "kernelspec": {
   "display_name": "Python 3 (ipykernel)",
   "language": "python",
   "name": "python3"
  },
  "language_info": {
   "codemirror_mode": {
    "name": "ipython",
    "version": 3
   },
   "file_extension": ".py",
   "mimetype": "text/x-python",
   "name": "python",
   "nbconvert_exporter": "python",
   "pygments_lexer": "ipython3",
   "version": "3.9.7"
  }
 },
 "nbformat": 4,
 "nbformat_minor": 5
}
